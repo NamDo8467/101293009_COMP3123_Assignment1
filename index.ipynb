{
  "nbformat": 4,
  "nbformat_minor": 0,
  "metadata": {
    "colab": {
      "provenance": [],
      "mount_file_id": "1RE3NVLepRf-O2O2vLvTW8RtYjxKepHn0",
      "authorship_tag": "ABX9TyNR2oxdwjtXWTC9gpoc3Juo",
      "include_colab_link": true
    },
    "kernelspec": {
      "name": "python3",
      "display_name": "Python 3"
    },
    "language_info": {
      "name": "python"
    }
  },
  "cells": [
    {
      "cell_type": "markdown",
      "metadata": {
        "id": "view-in-github",
        "colab_type": "text"
      },
      "source": [
        "<a href=\"https://colab.research.google.com/github/NamDo8467/101293009_COMP3123_Assignment1/blob/main/index.ipynb\" target=\"_parent\"><img src=\"https://colab.research.google.com/assets/colab-badge.svg\" alt=\"Open In Colab\"/></a>"
      ]
    },
    {
      "cell_type": "markdown",
      "source": [
        "# Useful links\n",
        "[Reddit API tutorial](https://www.youtube.com/watch?v=x9boO9x3TDA)\n",
        "\n",
        "[Reddit API Documentation](https://www.reddit.com/dev/api)\n",
        "\n",
        "[Reddit App](https://www.reddit.com/prefs/apps)\n",
        "\n",
        "[Reddit OAuth2 Github repo](https://github.com/reddit-archive/reddit/wiki/OAuth2-Quick-Start-Example)"
      ],
      "metadata": {
        "id": "s1g_qbmwEXYD"
      }
    },
    {
      "cell_type": "markdown",
      "source": [
        "# Code"
      ],
      "metadata": {
        "id": "UKHaYv0tFUKO"
      }
    },
    {
      "cell_type": "code",
      "source": [],
      "metadata": {
        "id": "HhpoqBeuFT7B"
      },
      "execution_count": null,
      "outputs": []
    },
    {
      "cell_type": "code",
      "execution_count": 1,
      "metadata": {
        "id": "VspgEn-ael2n",
        "colab": {
          "base_uri": "https://localhost:8080/"
        },
        "outputId": "45f2083d-cf60-458c-a23b-673b6fd68f42"
      },
      "outputs": [
        {
          "output_type": "stream",
          "name": "stdout",
          "text": [
            "Drive already mounted at /content/drive; to attempt to forcibly remount, call drive.mount(\"/content/drive\", force_remount=True).\n"
          ]
        }
      ],
      "source": [
        "from bs4 import BeautifulSoup\n",
        "import requests\n",
        "\n",
        "from google.colab import drive\n",
        "drive.mount('/content/drive')"
      ]
    },
    {
      "cell_type": "code",
      "source": [
        "# Get access_token from Reddit API\n",
        "\n",
        "client_auth = requests.auth.HTTPBasicAuth('lwl5lxEHUx_QqUF5gIgVKg', 'jHn1pV9hKk7vAesM_mlGZAaEj-2QEQ')\n",
        "post_data = {\"grant_type\": \"password\", \"username\": \"NamDough\", \"password\": \"Namdo2002\"}\n",
        "headers = {\"User-Agent\": \"ChangeMeClient/0.1 by YourUsername\"}\n",
        "response = requests.post(\"https://www.reddit.com/api/v1/access_token\", auth=client_auth, data=post_data, headers=headers)\n",
        "\n",
        "access_token = response.json()['access_token']\n",
        "\n"
      ],
      "metadata": {
        "id": "6PtNbOOGgJty"
      },
      "execution_count": 2,
      "outputs": []
    },
    {
      "cell_type": "code",
      "source": [],
      "metadata": {
        "id": "sEOWRishzTB_"
      },
      "execution_count": null,
      "outputs": []
    },
    {
      "cell_type": "code",
      "source": [
        "# Get all the subreddits from a user\n",
        "headers = {\"Authorization\": f\"bearer {access_token}\", \"User-Agent\": \"ChangeMeClient/0.1 by YourUsername\"}\n",
        "response1 = requests.get(\"https://oauth.reddit.com/subreddits/mine/subscriber\", headers=headers)\n"
      ],
      "metadata": {
        "id": "F4of4c6iohJ5"
      },
      "execution_count": null,
      "outputs": []
    },
    {
      "cell_type": "code",
      "source": [
        "# Get all comments from a specific post\n",
        "headers = {\"Authorization\": f\"bearer {access_token}\", \"User-Agent\": \"ChangeMeClient/0.1 by YourUsername\"}\n",
        "response1 = requests.get(\"https://oauth.reddit.com/r/TimHortons/comments/1earicv/job_interview/\", headers=headers)\n",
        "\n",
        "res = response1.json() # res[0] is the information about the post, and res[1] is the information about the comments of the post\n",
        "\n",
        "post_info = res[0]\n",
        "comments = res[1].get(\"data\").get(\"children\")\n",
        "\n",
        "\n",
        "arr = []\n",
        "for comment in comments:\n",
        "  data = comment.get('data')\n",
        "  arr.append(data.get('body'))\n"
      ],
      "metadata": {
        "id": "cbDFu3cmzYMI",
        "colab": {
          "base_uri": "https://localhost:8080/"
        },
        "outputId": "827e7a08-7bae-4b3d-e668-debcb77abbc9"
      },
      "execution_count": 16,
      "outputs": [
        {
          "output_type": "stream",
          "name": "stdout",
          "text": [
            "{'subreddit_id': 't5_2sfxf', 'approved_at_utc': None, 'author_is_blocked': False, 'comment_type': None, 'awarders': [], 'mod_reason_by': None, 'banned_by': None, 'author_flair_type': 'text', 'total_awards_received': 0, 'subreddit': 'TimHortons', 'author_flair_template_id': None, 'likes': True, 'replies': {'kind': 'Listing', 'data': {'after': None, 'dist': None, 'modhash': None, 'geo_filter': '', 'children': [{'kind': 't1', 'data': {'subreddit_id': 't5_2sfxf', 'approved_at_utc': None, 'author_is_blocked': False, 'comment_type': None, 'awarders': [], 'mod_reason_by': None, 'banned_by': None, 'author_flair_type': 'text', 'total_awards_received': 0, 'subreddit': 'TimHortons', 'author_flair_template_id': None, 'likes': True, 'replies': {'kind': 'Listing', 'data': {'after': None, 'dist': None, 'modhash': None, 'geo_filter': '', 'children': [{'kind': 't1', 'data': {'subreddit_id': 't5_2sfxf', 'approved_at_utc': None, 'author_is_blocked': False, 'comment_type': None, 'awarders': [], 'mod_reason_by': None, 'banned_by': None, 'author_flair_type': 'text', 'total_awards_received': 0, 'subreddit': 'TimHortons', 'author_flair_template_id': None, 'likes': None, 'replies': '', 'user_reports': [], 'saved': False, 'id': 'leq6epw', 'banned_at_utc': None, 'mod_reason_title': None, 'gilded': 0, 'archived': False, 'collapsed_reason_code': None, 'no_follow': True, 'author': 'irv_12', 'can_mod_post': False, 'send_replies': True, 'parent_id': 't1_leoyoti', 'score': 2, 'author_fullname': 't2_5x8yja99', 'removal_reason': None, 'approved_by': None, 'mod_note': None, 'all_awardings': [], 'body': 'One of life’s biggest questions', 'edited': False, 'top_awarded_type': None, 'downs': 0, 'author_flair_css_class': None, 'name': 't1_leq6epw', 'is_submitter': False, 'collapsed': True, 'author_flair_richtext': [], 'author_patreon_flair': False, 'body_html': '&lt;div class=\"md\"&gt;&lt;p&gt;One of life’s biggest questions&lt;/p&gt;\\n&lt;/div&gt;', 'gildings': {}, 'collapsed_reason': None, 'distinguished': None, 'associated_award': None, 'stickied': False, 'author_premium': False, 'can_gild': False, 'link_id': 't3_1earicv', 'unrepliable_reason': None, 'author_flair_text_color': None, 'score_hidden': False, 'permalink': '/r/TimHortons/comments/1earicv/job_interview/leq6epw/', 'subreddit_type': 'public', 'locked': False, 'report_reasons': None, 'created': 1721837074.0, 'author_flair_text': None, 'treatment_tags': [], 'created_utc': 1721837074.0, 'subreddit_name_prefixed': 'r/TimHortons', 'controversiality': 0, 'depth': 2, 'author_flair_background_color': None, 'collapsed_because_crowd_control': None, 'mod_reports': [], 'num_reports': None, 'ups': 2}}], 'before': None}}, 'user_reports': [], 'saved': False, 'id': 'leoyoti', 'banned_at_utc': None, 'mod_reason_title': None, 'gilded': 0, 'archived': False, 'collapsed_reason_code': None, 'no_follow': False, 'author': '_we_have_to_go_back_', 'can_mod_post': False, 'created_utc': 1721821276.0, 'send_replies': True, 'parent_id': 't1_lenmv59', 'score': 6, 'author_fullname': 't2_mu0tf', 'removal_reason': None, 'approved_by': None, 'mod_note': None, 'all_awardings': [], 'body': 'Were you?', 'edited': False, 'top_awarded_type': None, 'author_flair_css_class': None, 'name': 't1_leoyoti', 'is_submitter': False, 'downs': 0, 'author_flair_richtext': [], 'author_patreon_flair': False, 'body_html': '&lt;div class=\"md\"&gt;&lt;p&gt;Were you?&lt;/p&gt;\\n&lt;/div&gt;', 'gildings': {}, 'collapsed_reason': None, 'distinguished': None, 'associated_award': None, 'stickied': False, 'author_premium': False, 'can_gild': False, 'link_id': 't3_1earicv', 'unrepliable_reason': None, 'author_flair_text_color': None, 'score_hidden': False, 'permalink': '/r/TimHortons/comments/1earicv/job_interview/leoyoti/', 'subreddit_type': 'public', 'locked': False, 'report_reasons': None, 'created': 1721821276.0, 'author_flair_text': None, 'treatment_tags': [], 'collapsed': True, 'subreddit_name_prefixed': 'r/TimHortons', 'controversiality': 0, 'depth': 1, 'author_flair_background_color': None, 'collapsed_because_crowd_control': None, 'mod_reports': [], 'num_reports': None, 'ups': 6}}], 'before': None}}, 'user_reports': [], 'saved': False, 'id': 'lenmv59', 'banned_at_utc': None, 'mod_reason_title': None, 'gilded': 0, 'archived': False, 'collapsed_reason_code': None, 'no_follow': False, 'author': 'Chris82Price', 'can_mod_post': False, 'created_utc': 1721792798.0, 'send_replies': True, 'parent_id': 't3_1earicv', 'score': 6, 'author_fullname': 't2_cce4856hs', 'approved_by': None, 'mod_note': None, 'all_awardings': [], 'collapsed': True, 'body': 'I was asked if I was staring at interviewers tits once lol.', 'edited': False, 'top_awarded_type': None, 'author_flair_css_class': None, 'name': 't1_lenmv59', 'is_submitter': False, 'downs': 0, 'author_flair_richtext': [], 'author_patreon_flair': False, 'body_html': '&lt;div class=\"md\"&gt;&lt;p&gt;I was asked if I was staring at interviewers tits once lol.&lt;/p&gt;\\n&lt;/div&gt;', 'removal_reason': None, 'collapsed_reason': None, 'distinguished': None, 'associated_award': None, 'stickied': False, 'author_premium': False, 'can_gild': False, 'gildings': {}, 'unrepliable_reason': None, 'author_flair_text_color': None, 'score_hidden': False, 'permalink': '/r/TimHortons/comments/1earicv/job_interview/lenmv59/', 'subreddit_type': 'public', 'locked': False, 'report_reasons': None, 'created': 1721792798.0, 'author_flair_text': None, 'treatment_tags': [], 'link_id': 't3_1earicv', 'subreddit_name_prefixed': 'r/TimHortons', 'controversiality': 0, 'depth': 0, 'author_flair_background_color': None, 'collapsed_because_crowd_control': None, 'mod_reports': [], 'num_reports': None, 'ups': 6}\n",
            "0\n"
          ]
        }
      ]
    },
    {
      "cell_type": "code",
      "source": [],
      "metadata": {
        "id": "_l-iQEjqpfzz"
      },
      "execution_count": null,
      "outputs": []
    },
    {
      "cell_type": "code",
      "source": [
        "import pandas as pd\n",
        "\n",
        "spreadsheet_id = \"1Aghg_s9fVC7lDJCdjzs3-JTff_YXJkzM3rUC4B9h9og\"\n",
        "\n",
        "link_df = pd.read_csv(f\"https://docs.google.com/spreadsheets/d/{spreadsheet_id}/export?format=csv\")\n",
        "\n",
        "subreddit_column = link_df.loc[:, \"Subreddit\"]\n",
        "\n",
        "link_column = link_df.loc[:, \"Link\"]\n",
        "\n",
        "links = {\n",
        "    'user-info': \"https://oauth.reddit.com/api/v1/me\",\n",
        "    'user-karma':\"https://oauth.reddit.com/api/v1/me/karma\",\n",
        "    'user-friends':\"https://oauth.reddit.com/prefs/friends\",\n",
        "    'subreddit':{\n",
        "        'Tim Hortons':[],\n",
        "        'York University':[],\n",
        "        'Toronto':[],\n",
        "        'Web Dev':[],\n",
        "        'Python':[]\n",
        "    }\n",
        "}\n",
        "for index, link in enumerate(link_column):\n",
        "  if subreddit_column[index] not in links['subreddit']:\n",
        "    links[\"subreddit\"][f'{subreddit_column[index]}'] = []\n",
        "  else:\n",
        "    links[\"subreddit\"][f'{subreddit_column[index]}'].append(link)\n"
      ],
      "metadata": {
        "id": "iuErORjnkVJY",
        "colab": {
          "base_uri": "https://localhost:8080/"
        },
        "outputId": "56f81ded-b4d2-468e-9d48-1d0fb369ef3c"
      },
      "execution_count": null,
      "outputs": [
        {
          "output_type": "execute_result",
          "data": {
            "text/plain": [
              "{'user-info': 'https://oauth.reddit.com/api/v1/me',\n",
              " 'user-karma': 'https://oauth.reddit.com/api/v1/me/karma',\n",
              " 'user-friends': 'https://oauth.reddit.com/prefs/friends',\n",
              " 'subreddit': {'Tim Hortons': ['https://www.reddit.com/r/TimHortons/comments/1earicv/job_interview/'],\n",
              "  'York University': ['https://www.reddit.com/r/yorku/comments/1edwena/can_someone_in_simple_terms_explain_to_me_why/'],\n",
              "  'Toronto': ['https://www.reddit.com/r/toronto/comments/1ebyo0c/one_of_torontos_oldest_vegetarian_restaurants_to/',\n",
              "   'https://www.reddit.com/r/toronto/comments/1eakgpk/this_combined_bike_and_coffee_shop_is_everything/',\n",
              "   'https://www.reddit.com/r/toronto/comments/1ebrbic/toronto_power_grid_unprepared_for_extreme_weather/'],\n",
              "  'Web Dev': [],\n",
              "  'Python': []}}"
            ]
          },
          "metadata": {},
          "execution_count": 41
        }
      ]
    },
    {
      "cell_type": "code",
      "source": [
        "\n",
        "\n",
        "# headers = {\"Authorization\": f\"{access_token}\", \"User-Agent\": \"ChangeMeClient/0.1 by YourUsername\"}\n",
        "response = requests.get(\"https://oauth.reddit.com/api/v1/me\", headers=headers)\n",
        "\n",
        "# response.text\n",
        "response.json()\n"
      ],
      "metadata": {
        "id": "Qf_KqHtsgl0k"
      },
      "execution_count": null,
      "outputs": []
    },
    {
      "cell_type": "code",
      "source": [
        "\n"
      ],
      "metadata": {
        "id": "IDficjenk0T3"
      },
      "execution_count": null,
      "outputs": []
    }
  ]
}